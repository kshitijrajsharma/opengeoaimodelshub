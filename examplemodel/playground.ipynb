{
 "cells": [
  {
   "cell_type": "code",
   "execution_count": 1,
   "id": "8cdc9552",
   "metadata": {},
   "outputs": [],
   "source": [
    "import torch "
   ]
  },
  {
   "cell_type": "code",
   "execution_count": 2,
   "id": "a12df597",
   "metadata": {},
   "outputs": [
    {
     "data": {
      "text/plain": [
       "RecursiveScriptModule(\n",
       "  original_name=RefugeeCampDetector\n",
       "  (conv1): RecursiveScriptModule(original_name=Conv2d)\n",
       "  (pool1): RecursiveScriptModule(original_name=MaxPool2d)\n",
       "  (conv2): RecursiveScriptModule(original_name=Conv2d)\n",
       "  (pool2): RecursiveScriptModule(original_name=MaxPool2d)\n",
       "  (conv3): RecursiveScriptModule(original_name=Conv2d)\n",
       "  (pool3): RecursiveScriptModule(original_name=MaxPool2d)\n",
       "  (conv4): RecursiveScriptModule(original_name=Conv2d)\n",
       "  (up1): RecursiveScriptModule(original_name=ConvTranspose2d)\n",
       "  (up2): RecursiveScriptModule(original_name=ConvTranspose2d)\n",
       "  (up3): RecursiveScriptModule(original_name=ConvTranspose2d)\n",
       "  (outc): RecursiveScriptModule(original_name=Conv2d)\n",
       ")"
      ]
     },
     "execution_count": 2,
     "metadata": {},
     "output_type": "execute_result"
    }
   ],
   "source": [
    "model = torch.jit.load('/Users/krschap/intern/opengeoaimodelshub/examplemodel/meta/best_model.pt', map_location=\"cpu\")\n",
    "model.eval()"
   ]
  },
  {
   "cell_type": "code",
   "execution_count": null,
   "id": "2a02b396",
   "metadata": {},
   "outputs": [],
   "source": [
    "dummy_input = torch.randn(1, 3, 256, 256, dtype=torch.float32, device=\"cpu\")\n",
    "print(f\"Dummy input shape: {tuple(dummy_input.shape)}\")"
   ]
  },
  {
   "cell_type": "code",
   "execution_count": null,
   "id": "5b0e6984",
   "metadata": {},
   "outputs": [],
   "source": [
    "import numpy as np \n",
    "with torch.no_grad():\n",
    "    output = model(dummy_input)\n",
    "\n",
    "print(f\"Raw output type: {type(output)}\")\n",
    "print(f\"Raw output shape: {tuple(output.shape)}\")\n",
    "print(f\"Raw output min/max: {output.min().item():.4f}/{output.max().item():.4f}\")\n",
    "\n",
    "\n",
    "mask = (output > 0.5).int()  # binary mask: 0 or 1\n",
    "mask_np = mask.cpu().numpy()\n",
    "print(f\"Thresholded mask shape: {mask_np.shape}\")\n",
    "print(f\"Unique values in mask: {np.unique(mask_np)}\")\n"
   ]
  }
 ],
 "metadata": {
  "kernelspec": {
   "display_name": "examplemodel",
   "language": "python",
   "name": "python3"
  },
  "language_info": {
   "codemirror_mode": {
    "name": "ipython",
    "version": 3
   },
   "file_extension": ".py",
   "mimetype": "text/x-python",
   "name": "python",
   "nbconvert_exporter": "python",
   "pygments_lexer": "ipython3",
   "version": "3.13.2"
  }
 },
 "nbformat": 4,
 "nbformat_minor": 5
}
